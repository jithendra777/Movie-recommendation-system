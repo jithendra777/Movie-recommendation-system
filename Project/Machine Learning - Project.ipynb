{
 "cells": [
  {
   "cell_type": "code",
   "execution_count": 44,
   "id": "4afc8eec",
   "metadata": {},
   "outputs": [
    {
     "name": "stderr",
     "output_type": "stream",
     "text": [
      "[nltk_data] Downloading package punkt to\n",
      "[nltk_data]     C:\\Users\\JAYANTH.M\\AppData\\Roaming\\nltk_data...\n",
      "[nltk_data]   Package punkt is already up-to-date!\n",
      "[nltk_data] Downloading package stopwords to\n",
      "[nltk_data]     C:\\Users\\JAYANTH.M\\AppData\\Roaming\\nltk_data...\n",
      "[nltk_data]   Package stopwords is already up-to-date!\n"
     ]
    },
    {
     "data": {
      "text/plain": [
       "True"
      ]
     },
     "execution_count": 44,
     "metadata": {},
     "output_type": "execute_result"
    }
   ],
   "source": [
    "import numpy as np\n",
    "import pandas as pd\n",
    "import nltk\n",
    "import time\n",
    "from sklearn import svm\n",
    "from sklearn.neighbors import KNeighborsClassifier\n",
    "from nltk.corpus import stopwords\n",
    "from nltk.tokenize import sent_tokenize\n",
    "from sklearn.model_selection import train_test_split\n",
    "from sklearn.linear_model import Perceptron\n",
    "from sklearn.neural_network import MLPClassifier\n",
    "from sklearn import tree\n",
    "from sklearn.ensemble import RandomForestClassifier\n",
    "from sklearn.naive_bayes import GaussianNB\n",
    "from sklearn.linear_model import LogisticRegression\n",
    "from sklearn import datasets, linear_model\n",
    "from sklearn.metrics import mean_squared_error, r2_score\n",
    "from sklearn.tree import DecisionTreeRegressor\n",
    "from sklearn.neighbors import KNeighborsRegressor\n",
    "nltk.download('punkt')\n",
    "nltk.download('stopwords')"
   ]
  },
  {
   "cell_type": "code",
   "execution_count": 45,
   "id": "b0a563aa",
   "metadata": {},
   "outputs": [
    {
     "data": {
      "text/html": [
       "<div>\n",
       "<style scoped>\n",
       "    .dataframe tbody tr th:only-of-type {\n",
       "        vertical-align: middle;\n",
       "    }\n",
       "\n",
       "    .dataframe tbody tr th {\n",
       "        vertical-align: top;\n",
       "    }\n",
       "\n",
       "    .dataframe thead th {\n",
       "        text-align: right;\n",
       "    }\n",
       "</style>\n",
       "<table border=\"1\" class=\"dataframe\">\n",
       "  <thead>\n",
       "    <tr style=\"text-align: right;\">\n",
       "      <th></th>\n",
       "      <th>index</th>\n",
       "      <th>budget</th>\n",
       "      <th>genres</th>\n",
       "      <th>homepage</th>\n",
       "      <th>id</th>\n",
       "      <th>keywords</th>\n",
       "      <th>original_language</th>\n",
       "      <th>original_title</th>\n",
       "      <th>overview</th>\n",
       "      <th>popularity</th>\n",
       "      <th>...</th>\n",
       "      <th>runtime</th>\n",
       "      <th>spoken_languages</th>\n",
       "      <th>status</th>\n",
       "      <th>tagline</th>\n",
       "      <th>title</th>\n",
       "      <th>vote_average</th>\n",
       "      <th>vote_count</th>\n",
       "      <th>cast</th>\n",
       "      <th>crew</th>\n",
       "      <th>director</th>\n",
       "    </tr>\n",
       "  </thead>\n",
       "  <tbody>\n",
       "    <tr>\n",
       "      <th>0</th>\n",
       "      <td>0</td>\n",
       "      <td>237000000</td>\n",
       "      <td>Action Adventure Fantasy Science Fiction</td>\n",
       "      <td>http://www.avatarmovie.com/</td>\n",
       "      <td>19995</td>\n",
       "      <td>culture clash future space war space colony so...</td>\n",
       "      <td>en</td>\n",
       "      <td>Avatar</td>\n",
       "      <td>In the 22nd century, a paraplegic Marine is di...</td>\n",
       "      <td>150.437577</td>\n",
       "      <td>...</td>\n",
       "      <td>162.0</td>\n",
       "      <td>[{\"iso_639_1\": \"en\", \"name\": \"English\"}, {\"iso...</td>\n",
       "      <td>Released</td>\n",
       "      <td>Enter the World of Pandora.</td>\n",
       "      <td>Avatar</td>\n",
       "      <td>7.2</td>\n",
       "      <td>11800</td>\n",
       "      <td>Sam Worthington Zoe Saldana Sigourney Weaver S...</td>\n",
       "      <td>[{'name': 'Stephen E. Rivkin', 'gender': 0, 'd...</td>\n",
       "      <td>James Cameron</td>\n",
       "    </tr>\n",
       "    <tr>\n",
       "      <th>1</th>\n",
       "      <td>1</td>\n",
       "      <td>300000000</td>\n",
       "      <td>Adventure Fantasy Action</td>\n",
       "      <td>http://disney.go.com/disneypictures/pirates/</td>\n",
       "      <td>285</td>\n",
       "      <td>ocean drug abuse exotic island east india trad...</td>\n",
       "      <td>en</td>\n",
       "      <td>Pirates of the Caribbean: At World's End</td>\n",
       "      <td>Captain Barbossa, long believed to be dead, ha...</td>\n",
       "      <td>139.082615</td>\n",
       "      <td>...</td>\n",
       "      <td>169.0</td>\n",
       "      <td>[{\"iso_639_1\": \"en\", \"name\": \"English\"}]</td>\n",
       "      <td>Released</td>\n",
       "      <td>At the end of the world, the adventure begins.</td>\n",
       "      <td>Pirates of the Caribbean: At World's End</td>\n",
       "      <td>6.9</td>\n",
       "      <td>4500</td>\n",
       "      <td>Johnny Depp Orlando Bloom Keira Knightley Stel...</td>\n",
       "      <td>[{'name': 'Dariusz Wolski', 'gender': 2, 'depa...</td>\n",
       "      <td>Gore Verbinski</td>\n",
       "    </tr>\n",
       "    <tr>\n",
       "      <th>2</th>\n",
       "      <td>2</td>\n",
       "      <td>245000000</td>\n",
       "      <td>Action Adventure Crime</td>\n",
       "      <td>http://www.sonypictures.com/movies/spectre/</td>\n",
       "      <td>206647</td>\n",
       "      <td>spy based on novel secret agent sequel mi6</td>\n",
       "      <td>en</td>\n",
       "      <td>Spectre</td>\n",
       "      <td>A cryptic message from Bond’s past sends him o...</td>\n",
       "      <td>107.376788</td>\n",
       "      <td>...</td>\n",
       "      <td>148.0</td>\n",
       "      <td>[{\"iso_639_1\": \"fr\", \"name\": \"Fran\\u00e7ais\"},...</td>\n",
       "      <td>Released</td>\n",
       "      <td>A Plan No One Escapes</td>\n",
       "      <td>Spectre</td>\n",
       "      <td>6.3</td>\n",
       "      <td>4466</td>\n",
       "      <td>Daniel Craig Christoph Waltz L\\u00e9a Seydoux ...</td>\n",
       "      <td>[{'name': 'Thomas Newman', 'gender': 2, 'depar...</td>\n",
       "      <td>Sam Mendes</td>\n",
       "    </tr>\n",
       "    <tr>\n",
       "      <th>3</th>\n",
       "      <td>3</td>\n",
       "      <td>250000000</td>\n",
       "      <td>Action Crime Drama Thriller</td>\n",
       "      <td>http://www.thedarkknightrises.com/</td>\n",
       "      <td>49026</td>\n",
       "      <td>dc comics crime fighter terrorist secret ident...</td>\n",
       "      <td>en</td>\n",
       "      <td>The Dark Knight Rises</td>\n",
       "      <td>Following the death of District Attorney Harve...</td>\n",
       "      <td>112.312950</td>\n",
       "      <td>...</td>\n",
       "      <td>165.0</td>\n",
       "      <td>[{\"iso_639_1\": \"en\", \"name\": \"English\"}]</td>\n",
       "      <td>Released</td>\n",
       "      <td>The Legend Ends</td>\n",
       "      <td>The Dark Knight Rises</td>\n",
       "      <td>7.6</td>\n",
       "      <td>9106</td>\n",
       "      <td>Christian Bale Michael Caine Gary Oldman Anne ...</td>\n",
       "      <td>[{'name': 'Hans Zimmer', 'gender': 2, 'departm...</td>\n",
       "      <td>Christopher Nolan</td>\n",
       "    </tr>\n",
       "    <tr>\n",
       "      <th>4</th>\n",
       "      <td>4</td>\n",
       "      <td>260000000</td>\n",
       "      <td>Action Adventure Science Fiction</td>\n",
       "      <td>http://movies.disney.com/john-carter</td>\n",
       "      <td>49529</td>\n",
       "      <td>based on novel mars medallion space travel pri...</td>\n",
       "      <td>en</td>\n",
       "      <td>John Carter</td>\n",
       "      <td>John Carter is a war-weary, former military ca...</td>\n",
       "      <td>43.926995</td>\n",
       "      <td>...</td>\n",
       "      <td>132.0</td>\n",
       "      <td>[{\"iso_639_1\": \"en\", \"name\": \"English\"}]</td>\n",
       "      <td>Released</td>\n",
       "      <td>Lost in our world, found in another.</td>\n",
       "      <td>John Carter</td>\n",
       "      <td>6.1</td>\n",
       "      <td>2124</td>\n",
       "      <td>Taylor Kitsch Lynn Collins Samantha Morton Wil...</td>\n",
       "      <td>[{'name': 'Andrew Stanton', 'gender': 2, 'depa...</td>\n",
       "      <td>Andrew Stanton</td>\n",
       "    </tr>\n",
       "  </tbody>\n",
       "</table>\n",
       "<p>5 rows × 24 columns</p>\n",
       "</div>"
      ],
      "text/plain": [
       "   index     budget                                    genres  \\\n",
       "0      0  237000000  Action Adventure Fantasy Science Fiction   \n",
       "1      1  300000000                  Adventure Fantasy Action   \n",
       "2      2  245000000                    Action Adventure Crime   \n",
       "3      3  250000000               Action Crime Drama Thriller   \n",
       "4      4  260000000          Action Adventure Science Fiction   \n",
       "\n",
       "                                       homepage      id  \\\n",
       "0                   http://www.avatarmovie.com/   19995   \n",
       "1  http://disney.go.com/disneypictures/pirates/     285   \n",
       "2   http://www.sonypictures.com/movies/spectre/  206647   \n",
       "3            http://www.thedarkknightrises.com/   49026   \n",
       "4          http://movies.disney.com/john-carter   49529   \n",
       "\n",
       "                                            keywords original_language  \\\n",
       "0  culture clash future space war space colony so...                en   \n",
       "1  ocean drug abuse exotic island east india trad...                en   \n",
       "2         spy based on novel secret agent sequel mi6                en   \n",
       "3  dc comics crime fighter terrorist secret ident...                en   \n",
       "4  based on novel mars medallion space travel pri...                en   \n",
       "\n",
       "                             original_title  \\\n",
       "0                                    Avatar   \n",
       "1  Pirates of the Caribbean: At World's End   \n",
       "2                                   Spectre   \n",
       "3                     The Dark Knight Rises   \n",
       "4                               John Carter   \n",
       "\n",
       "                                            overview  popularity  ... runtime  \\\n",
       "0  In the 22nd century, a paraplegic Marine is di...  150.437577  ...   162.0   \n",
       "1  Captain Barbossa, long believed to be dead, ha...  139.082615  ...   169.0   \n",
       "2  A cryptic message from Bond’s past sends him o...  107.376788  ...   148.0   \n",
       "3  Following the death of District Attorney Harve...  112.312950  ...   165.0   \n",
       "4  John Carter is a war-weary, former military ca...   43.926995  ...   132.0   \n",
       "\n",
       "                                    spoken_languages    status  \\\n",
       "0  [{\"iso_639_1\": \"en\", \"name\": \"English\"}, {\"iso...  Released   \n",
       "1           [{\"iso_639_1\": \"en\", \"name\": \"English\"}]  Released   \n",
       "2  [{\"iso_639_1\": \"fr\", \"name\": \"Fran\\u00e7ais\"},...  Released   \n",
       "3           [{\"iso_639_1\": \"en\", \"name\": \"English\"}]  Released   \n",
       "4           [{\"iso_639_1\": \"en\", \"name\": \"English\"}]  Released   \n",
       "\n",
       "                                          tagline  \\\n",
       "0                     Enter the World of Pandora.   \n",
       "1  At the end of the world, the adventure begins.   \n",
       "2                           A Plan No One Escapes   \n",
       "3                                 The Legend Ends   \n",
       "4            Lost in our world, found in another.   \n",
       "\n",
       "                                      title vote_average vote_count  \\\n",
       "0                                    Avatar          7.2      11800   \n",
       "1  Pirates of the Caribbean: At World's End          6.9       4500   \n",
       "2                                   Spectre          6.3       4466   \n",
       "3                     The Dark Knight Rises          7.6       9106   \n",
       "4                               John Carter          6.1       2124   \n",
       "\n",
       "                                                cast  \\\n",
       "0  Sam Worthington Zoe Saldana Sigourney Weaver S...   \n",
       "1  Johnny Depp Orlando Bloom Keira Knightley Stel...   \n",
       "2  Daniel Craig Christoph Waltz L\\u00e9a Seydoux ...   \n",
       "3  Christian Bale Michael Caine Gary Oldman Anne ...   \n",
       "4  Taylor Kitsch Lynn Collins Samantha Morton Wil...   \n",
       "\n",
       "                                                crew           director  \n",
       "0  [{'name': 'Stephen E. Rivkin', 'gender': 0, 'd...      James Cameron  \n",
       "1  [{'name': 'Dariusz Wolski', 'gender': 2, 'depa...     Gore Verbinski  \n",
       "2  [{'name': 'Thomas Newman', 'gender': 2, 'depar...         Sam Mendes  \n",
       "3  [{'name': 'Hans Zimmer', 'gender': 2, 'departm...  Christopher Nolan  \n",
       "4  [{'name': 'Andrew Stanton', 'gender': 2, 'depa...     Andrew Stanton  \n",
       "\n",
       "[5 rows x 24 columns]"
      ]
     },
     "execution_count": 45,
     "metadata": {},
     "output_type": "execute_result"
    }
   ],
   "source": [
    "df = pd.read_csv(r'C:\\Users\\JAYANTH.M\\Downloads\\movies.csv',na_values=\"nan\")\n",
    "df.head()"
   ]
  },
  {
   "cell_type": "code",
   "execution_count": 46,
   "id": "6d80c9fd",
   "metadata": {},
   "outputs": [
    {
     "data": {
      "text/plain": [
       "index                      0\n",
       "budget                     0\n",
       "genres                    28\n",
       "homepage                3091\n",
       "id                         0\n",
       "keywords                 412\n",
       "original_language          0\n",
       "original_title             0\n",
       "overview                   3\n",
       "popularity                 0\n",
       "production_companies       0\n",
       "production_countries       0\n",
       "release_date               1\n",
       "revenue                    0\n",
       "runtime                    2\n",
       "spoken_languages           0\n",
       "status                     0\n",
       "tagline                  844\n",
       "title                      0\n",
       "vote_average               0\n",
       "vote_count                 0\n",
       "cast                      43\n",
       "crew                       0\n",
       "director                  30\n",
       "dtype: int64"
      ]
     },
     "execution_count": 46,
     "metadata": {},
     "output_type": "execute_result"
    }
   ],
   "source": [
    "df.isnull().sum()"
   ]
  },
  {
   "cell_type": "code",
   "execution_count": 47,
   "id": "7fa3e42a",
   "metadata": {},
   "outputs": [],
   "source": [
    "df['genres'].fillna('mode',inplace=True)\n",
    "df['keywords'].fillna('mode',inplace=True)\n",
    "df['runtime'].fillna('mean',inplace=True)"
   ]
  },
  {
   "cell_type": "code",
   "execution_count": 48,
   "id": "e7e30dd0",
   "metadata": {},
   "outputs": [],
   "source": [
    "temp_genres = []\n",
    "temp_keywords = []\n",
    "for index,row in df.iterrows():\n",
    "    temp_genres.append(nltk.tokenize.word_tokenize(row['genres'].lower()))\n",
    "    temp_keywords.append(nltk.tokenize.word_tokenize(row['keywords'].lower()))\n",
    "\n",
    "df['genres'] = temp_genres\n",
    "df['keywords'] = temp_keywords "
   ]
  },
  {
   "cell_type": "code",
   "execution_count": 49,
   "id": "803d08de",
   "metadata": {},
   "outputs": [],
   "source": [
    "stop_words = set(stopwords.words('english'))\n",
    "token_pop_genres = []\n",
    "token_pop_keywords = []\n",
    "for index,row in df.iterrows():\n",
    "  for i in row['genres']:\n",
    "    if i not in token_pop_genres:\n",
    "      token_pop_genres.append(i)\n",
    "  for i in stop_words:\n",
    "    while i in row['keywords']:\n",
    "      row['keywords'].remove(i)\n",
    "    if i not in token_pop_keywords:\n",
    "      token_pop_keywords.append(i)\n",
    "\n",
    "v_genres = []\n",
    "v_keywords = []\n",
    "for index,row in df.iterrows():\n",
    "  temp = []\n",
    "  for i in token_pop_genres:\n",
    "    count =0\n",
    "    for j in row['genres']:\n",
    "      if i == j:\n",
    "        count+=1\n",
    "    temp.append(count)\n",
    "  v_genres.append(temp)\n",
    "\n",
    "for index,row in df.iterrows():\n",
    "  temp = []\n",
    "  for i in token_pop_keywords:\n",
    "    count =0\n",
    "    for j in row['keywords']:\n",
    "      if i == j:\n",
    "        count+=1\n",
    "    temp.append(count)\n",
    "  v_keywords.append(temp)\n",
    "\n",
    "df['genres'] = v_genres\n",
    "df['keywords'] = v_keywords"
   ]
  },
  {
   "cell_type": "code",
   "execution_count": 50,
   "id": "06985def",
   "metadata": {},
   "outputs": [],
   "source": [
    "temp = []\n",
    "for index,row in df.iterrows():\n",
    "  if row['vote_average'] < 6.2:\n",
    "    temp.append(0)\n",
    "  else:\n",
    "    temp.append(1)\n",
    "\n",
    "df['class'] = temp"
   ]
  },
  {
   "cell_type": "code",
   "execution_count": 51,
   "id": "b115f978",
   "metadata": {},
   "outputs": [],
   "source": [
    "temp = []\n",
    "for index,rows in df.iterrows():\n",
    "  temp.append((rows['popularity']-df['popularity'].min())/(df['popularity'].max()-df['popularity'].min()))\n",
    "\n",
    "df['popularity'] = temp"
   ]
  },
  {
   "cell_type": "code",
   "execution_count": 52,
   "id": "481466e9",
   "metadata": {},
   "outputs": [],
   "source": [
    "feature_vector = []\n",
    "for i,r in df.iterrows():\n",
    "  temp=[r['popularity']]\n",
    "  feature_vector.append(r['genres']+r['keywords']+temp)\n",
    "\n",
    "df['vectors'] = feature_vector"
   ]
  },
  {
   "cell_type": "code",
   "execution_count": 53,
   "id": "d2045b26",
   "metadata": {},
   "outputs": [
    {
     "data": {
      "text/plain": [
       "index                      0\n",
       "budget                     0\n",
       "genres                     0\n",
       "homepage                3091\n",
       "id                         0\n",
       "keywords                   0\n",
       "original_language          0\n",
       "original_title             0\n",
       "overview                   3\n",
       "popularity                 0\n",
       "production_companies       0\n",
       "production_countries       0\n",
       "release_date               1\n",
       "revenue                    0\n",
       "runtime                    0\n",
       "spoken_languages           0\n",
       "status                     0\n",
       "tagline                  844\n",
       "title                      0\n",
       "vote_average               0\n",
       "vote_count                 0\n",
       "cast                      43\n",
       "crew                       0\n",
       "director                  30\n",
       "class                      0\n",
       "vectors                    0\n",
       "dtype: int64"
      ]
     },
     "execution_count": 53,
     "metadata": {},
     "output_type": "execute_result"
    }
   ],
   "source": [
    "df.isnull().sum()"
   ]
  },
  {
   "cell_type": "code",
   "execution_count": 54,
   "id": "c04e9540",
   "metadata": {},
   "outputs": [
    {
     "data": {
      "text/plain": [
       "index                   0\n",
       "budget                  0\n",
       "genres                  0\n",
       "id                      0\n",
       "keywords                0\n",
       "original_language       0\n",
       "original_title          0\n",
       "popularity              0\n",
       "production_companies    0\n",
       "production_countries    0\n",
       "revenue                 0\n",
       "runtime                 0\n",
       "spoken_languages        0\n",
       "status                  0\n",
       "title                   0\n",
       "vote_average            0\n",
       "vote_count              0\n",
       "crew                    0\n",
       "class                   0\n",
       "vectors                 0\n",
       "dtype: int64"
      ]
     },
     "execution_count": 54,
     "metadata": {},
     "output_type": "execute_result"
    }
   ],
   "source": [
    "df.drop(['homepage'], axis=1,inplace=True)\n",
    "df.drop(['overview'], axis=1,inplace=True)\n",
    "df.drop(['director'], axis=1,inplace=True)\n",
    "df.drop(['cast'], axis=1,inplace=True)\n",
    "df.drop(['tagline'], axis=1,inplace=True)\n",
    "df.drop(['release_date'], axis=1,inplace=True)\n",
    "df.isnull().sum()"
   ]
  },
  {
   "cell_type": "code",
   "execution_count": 55,
   "id": "e116d000",
   "metadata": {},
   "outputs": [],
   "source": [
    "X = df['vectors']\n",
    "Y = df['class']\n",
    "X_train,X_test,Y_train,Y_test=train_test_split(X,Y,test_size=0.4,random_state=0)"
   ]
  },
  {
   "cell_type": "markdown",
   "id": "ecea2b06",
   "metadata": {},
   "source": [
    "### Classifications "
   ]
  },
  {
   "cell_type": "markdown",
   "id": "e059c023",
   "metadata": {},
   "source": [
    "### KNN - k nearest neighbors"
   ]
  },
  {
   "cell_type": "code",
   "execution_count": 56,
   "id": "01608208",
   "metadata": {},
   "outputs": [
    {
     "name": "stdout",
     "output_type": "stream",
     "text": [
      "The excecution time of training is 0.052343130111694336\n",
      "The accuracy is 0.6436004162330905\n",
      "The excecution time of testing is 0.2510550022125244\n"
     ]
    }
   ],
   "source": [
    "neigh = KNeighborsClassifier(n_neighbors=3)\n",
    "start = time.time()\n",
    "neigh.fit(list(X_train),Y_train)\n",
    "end = time.time()\n",
    "print(\"The excecution time of training is\",end-start)\n",
    "start = time.time()\n",
    "print(\"The accuracy is\",neigh.score(list(X_test),Y_test))\n",
    "end = time.time()\n",
    "print(\"The excecution time of testing is\",end-start)\n",
    "start = time.time()\n",
    "neigh.predict(list(X_test))\n",
    "end = time.time()"
   ]
  },
  {
   "cell_type": "markdown",
   "id": "f0ecd442",
   "metadata": {},
   "source": [
    "### Perceptron"
   ]
  },
  {
   "cell_type": "code",
   "execution_count": 57,
   "id": "2b447d52",
   "metadata": {},
   "outputs": [
    {
     "name": "stdout",
     "output_type": "stream",
     "text": [
      "The excecution time of training is 0.06218099594116211\n",
      "The accuracy is  0.6347554630593132\n",
      "The excecution time of testing is 0.045932769775390625\n"
     ]
    }
   ],
   "source": [
    "clf = Perceptron()\n",
    "start = time.time()\n",
    "clf = clf.fit(list(X_train),Y_train)\n",
    "end = time.time()\n",
    "print(\"The excecution time of training is\",end-start)\n",
    "start = time.time()\n",
    "print(\"The accuracy is \",clf.score(list(X_test),Y_test))\n",
    "end = time.time()\n",
    "print(\"The excecution time of testing is\",end-start)"
   ]
  },
  {
   "cell_type": "markdown",
   "id": "31c5b722",
   "metadata": {},
   "source": [
    "### Multi Layer Perception"
   ]
  },
  {
   "cell_type": "code",
   "execution_count": 58,
   "id": "f77f340b",
   "metadata": {},
   "outputs": [
    {
     "name": "stdout",
     "output_type": "stream",
     "text": [
      "The excecution time of training is 4.872934579849243\n",
      "The accuracy is  0.6940686784599376\n",
      "The excecution time of testing is 0.0877540111541748\n"
     ]
    },
    {
     "name": "stderr",
     "output_type": "stream",
     "text": [
      "C:\\Users\\JAYANTH.M\\anaconda3\\lib\\site-packages\\sklearn\\neural_network\\_multilayer_perceptron.py:692: ConvergenceWarning: Stochastic Optimizer: Maximum iterations (200) reached and the optimization hasn't converged yet.\n",
      "  warnings.warn(\n"
     ]
    }
   ],
   "source": [
    "MLP = MLPClassifier()\n",
    "start = time.time()\n",
    "MLP.fit(list(X_train),Y_train)\n",
    "end = time.time()\n",
    "print(\"The excecution time of training is\",end-start)\n",
    "start = time.time()\n",
    "print(\"The accuracy is \",MLP.score(list(X_test),Y_test))\n",
    "end = time.time()\n",
    "print(\"The excecution time of testing is\",end-start)"
   ]
  },
  {
   "cell_type": "markdown",
   "id": "f0f27cd2",
   "metadata": {},
   "source": [
    "### Support Vector Machine"
   ]
  },
  {
   "cell_type": "markdown",
   "id": "2f262a9d",
   "metadata": {},
   "source": [
    "### Kernel Function = Linear"
   ]
  },
  {
   "cell_type": "code",
   "execution_count": 59,
   "id": "547e25f4",
   "metadata": {},
   "outputs": [
    {
     "name": "stdout",
     "output_type": "stream",
     "text": [
      "The excecution time of training is 0.8214433193206787\n",
      "The accuracy is  0.668054110301769\n",
      "The excecution time of testing is 0.32748961448669434\n"
     ]
    }
   ],
   "source": [
    "clf = svm.SVC(kernel='linear')\n",
    "start = time.time()\n",
    "clf.fit(list(X_train),Y_train)\n",
    "end = time.time()\n",
    "print(\"The excecution time of training is\",end-start)\n",
    "start = time.time()\n",
    "print(\"The accuracy is \",clf.score(list(X_test),Y_test))\n",
    "end = time.time()\n",
    "print(\"The excecution time of testing is\",end-start)"
   ]
  },
  {
   "cell_type": "markdown",
   "id": "713cfc73",
   "metadata": {},
   "source": [
    "### Kernel Function = Poly"
   ]
  },
  {
   "cell_type": "code",
   "execution_count": 60,
   "id": "04d03f29",
   "metadata": {},
   "outputs": [
    {
     "name": "stdout",
     "output_type": "stream",
     "text": [
      "The excecution time of training is 0.7901227474212646\n",
      "The accuracy is  0.658168574401665\n",
      "The excecution time of testing is 0.3477010726928711\n"
     ]
    }
   ],
   "source": [
    "clf = svm.SVC(kernel='poly')\n",
    "start = time.time()\n",
    "clf.fit(list(X_train),Y_train)\n",
    "end = time.time()\n",
    "print(\"The excecution time of training is\",end-start)\n",
    "start = time.time()\n",
    "print(\"The accuracy is \",clf.score(list(X_test),Y_test))\n",
    "end = time.time()\n",
    "print(\"The excecution time of testing is\",end-start)"
   ]
  },
  {
   "cell_type": "markdown",
   "id": "9f922bf9",
   "metadata": {},
   "source": [
    "### Kernel Function = rbf"
   ]
  },
  {
   "cell_type": "code",
   "execution_count": 61,
   "id": "748f3093",
   "metadata": {},
   "outputs": [
    {
     "name": "stdout",
     "output_type": "stream",
     "text": [
      "The excecution time of training is 0.828345775604248\n",
      "The accuracy is  0.6644120707596254\n",
      "The excecution time of testing is 0.990924596786499\n"
     ]
    }
   ],
   "source": [
    "clf = svm.SVC(kernel='rbf')\n",
    "start = time.time()\n",
    "clf.fit(list(X_train),Y_train)\n",
    "end = time.time()\n",
    "print(\"The excecution time of training is\",end-start)\n",
    "start = time.time()\n",
    "print(\"The accuracy is \",clf.score(list(X_test),Y_test))\n",
    "end = time.time()\n",
    "print(\"The excecution time of testing is\",end-start)"
   ]
  },
  {
   "cell_type": "markdown",
   "id": "0bedc6c1",
   "metadata": {},
   "source": [
    "### Kernel Function = Sigmoid"
   ]
  },
  {
   "cell_type": "code",
   "execution_count": 62,
   "id": "67b03dc9",
   "metadata": {},
   "outputs": [
    {
     "name": "stdout",
     "output_type": "stream",
     "text": [
      "The excecution time of training is 0.6529595851898193\n",
      "The accuracy is  0.5759625390218522\n",
      "The excecution time of testing is 0.24764084815979004\n"
     ]
    }
   ],
   "source": [
    "clf = svm.SVC(kernel='sigmoid')\n",
    "start = time.time()\n",
    "clf.fit(list(X_train),Y_train)\n",
    "end = time.time()\n",
    "print(\"The excecution time of training is\",end-start)\n",
    "start = time.time()\n",
    "print(\"The accuracy is \",clf.score(list(X_test),Y_test))\n",
    "end = time.time()\n",
    "print(\"The excecution time of testing is\",end-start)"
   ]
  },
  {
   "cell_type": "markdown",
   "id": "09ff78ad",
   "metadata": {},
   "source": [
    "### Decision Tree Classfier"
   ]
  },
  {
   "cell_type": "markdown",
   "id": "0e91d652",
   "metadata": {},
   "source": [
    "### Criterion Measure = Gini"
   ]
  },
  {
   "cell_type": "code",
   "execution_count": 63,
   "id": "43268aee",
   "metadata": {},
   "outputs": [
    {
     "name": "stdout",
     "output_type": "stream",
     "text": [
      "The excecution time of training is 0.04587888717651367\n",
      "The accuracy is  0.6378772112382934\n",
      "The excecution time of testing is 0.024216890335083008\n",
      "30\n"
     ]
    }
   ],
   "source": [
    "model = tree.DecisionTreeClassifier()\n",
    "start = time.time()\n",
    "model = model.fit(list(X_train),Y_train)\n",
    "end = time.time()\n",
    "print(\"The excecution time of training is\",end-start)\n",
    "start = time.time()\n",
    "print(\"The accuracy is \",model.score(list(X_test),Y_test))\n",
    "end = time.time()\n",
    "print(\"The excecution time of testing is\",end-start)\n",
    "print(model.get_depth())"
   ]
  },
  {
   "cell_type": "markdown",
   "id": "ab1165b3",
   "metadata": {},
   "source": [
    "### Criterion Measure = Entropy"
   ]
  },
  {
   "cell_type": "code",
   "execution_count": 64,
   "id": "5601b463",
   "metadata": {},
   "outputs": [
    {
     "name": "stdout",
     "output_type": "stream",
     "text": [
      "The excecution time of training is 0.0578465461730957\n",
      "The accuracy is  0.6404786680541104\n",
      "The excecution time of testing is 0.024883747100830078\n",
      "39\n"
     ]
    }
   ],
   "source": [
    "model = tree.DecisionTreeClassifier(criterion=\"entropy\")\n",
    "start = time.time()\n",
    "model = model.fit(list(X_train),Y_train)\n",
    "end = time.time()\n",
    "print(\"The excecution time of training is\",end-start)\n",
    "start = time.time()\n",
    "print(\"The accuracy is \",model.score(list(X_test),Y_test))\n",
    "end = time.time()\n",
    "print(\"The excecution time of testing is\",end-start)\n",
    "print(model.get_depth())"
   ]
  },
  {
   "cell_type": "markdown",
   "id": "1e1fe5ea",
   "metadata": {},
   "source": [
    "### Random Forest Classifier"
   ]
  },
  {
   "cell_type": "code",
   "execution_count": 65,
   "id": "6297bb9a",
   "metadata": {},
   "outputs": [
    {
     "name": "stdout",
     "output_type": "stream",
     "text": [
      "The excecution time of training is 0.5713009834289551\n",
      "The accuracy is  0.6519250780437045\n",
      "The excecution time of testing is 0.059471845626831055\n"
     ]
    }
   ],
   "source": [
    "clf = RandomForestClassifier()\n",
    "start = time.time()\n",
    "clf = clf.fit(list(X_train),Y_train)\n",
    "end = time.time()\n",
    "print(\"The excecution time of training is\",end-start)\n",
    "start = time.time()\n",
    "print(\"The accuracy is \",clf.score(list(X_test),Y_test))\n",
    "end = time.time()\n",
    "print(\"The excecution time of testing is\",end-start)"
   ]
  },
  {
   "cell_type": "markdown",
   "id": "b0e4ec0a",
   "metadata": {},
   "source": [
    "### Naive Bayes"
   ]
  },
  {
   "cell_type": "code",
   "execution_count": 66,
   "id": "0aa3efd5",
   "metadata": {},
   "outputs": [
    {
     "name": "stdout",
     "output_type": "stream",
     "text": [
      "The excecution time of training is 0.058397769927978516\n",
      "The accuracy is  0.6690946930280958\n",
      "The excecution time of testing is 0.04057765007019043\n"
     ]
    }
   ],
   "source": [
    "model = GaussianNB()\n",
    "start = time.time()\n",
    "model = model.fit(list(X_train),Y_train)\n",
    "end = time.time()\n",
    "print(\"The excecution time of training is\",end-start)\n",
    "start = time.time()\n",
    "print(\"The accuracy is \",model.score(list(X_test),Y_test))\n",
    "end = time.time()\n",
    "print(\"The excecution time of testing is\",end-start)"
   ]
  },
  {
   "cell_type": "markdown",
   "id": "95d11014",
   "metadata": {},
   "source": [
    "### Logistic Regression"
   ]
  },
  {
   "cell_type": "code",
   "execution_count": 67,
   "id": "c62fe4aa",
   "metadata": {},
   "outputs": [
    {
     "name": "stdout",
     "output_type": "stream",
     "text": [
      "The excecution time of training is 0.06921911239624023\n",
      "The accuracy is  0.68210197710718\n",
      "The excecution time of testing is 0.05323386192321777\n"
     ]
    }
   ],
   "source": [
    "clf = LogisticRegression()\n",
    "start = time.time()\n",
    "clf = clf.fit(list(X_train),Y_train)\n",
    "end = time.time()\n",
    "print(\"The excecution time of training is\",end-start)\n",
    "start = time.time()\n",
    "print(\"The accuracy is \",clf.score(list(X_test),Y_test))\n",
    "end = time.time()\n",
    "print(\"The excecution time of testing is\",end-start)"
   ]
  },
  {
   "cell_type": "markdown",
   "id": "65306f7d",
   "metadata": {},
   "source": [
    "### Regression"
   ]
  },
  {
   "cell_type": "code",
   "execution_count": 68,
   "id": "e929f8e7",
   "metadata": {},
   "outputs": [],
   "source": [
    "X = df['budget']\n",
    "Y = df['revenue']\n",
    "X1_train, X1_test, Y1_train, Y1_test = train_test_split(X, Y, test_size=0.05,random_state=0)"
   ]
  },
  {
   "cell_type": "code",
   "execution_count": 69,
   "id": "7967dedb",
   "metadata": {},
   "outputs": [
    {
     "name": "stdout",
     "output_type": "stream",
     "text": [
      "The time taken to train the model is 0.00112152099609375\n",
      "The time taken to predict the testing dataset 0.0\n",
      "Coefficient of determination: 0.51\n"
     ]
    }
   ],
   "source": [
    "regr = linear_model.LinearRegression()\n",
    "start = time.time()\n",
    "regr.fit(X1_train.values.reshape(-1,1), Y1_train)\n",
    "end = time.time()\n",
    "print(\"The time taken to train the model is\",end-start)\n",
    "start = time.time()\n",
    "Y1_pred = regr.predict(X1_test.values.reshape(-1,1))\n",
    "end = time.time()\n",
    "print(\"The time taken to predict the testing dataset\",end-start)\n",
    "print(\"Coefficient of determination: %.2f\" % r2_score(Y1_test, Y1_pred))"
   ]
  },
  {
   "cell_type": "markdown",
   "id": "10f56e36",
   "metadata": {},
   "source": [
    "### Decision Tree Regressor"
   ]
  },
  {
   "cell_type": "code",
   "execution_count": 70,
   "id": "e9f17d29",
   "metadata": {},
   "outputs": [
    {
     "name": "stdout",
     "output_type": "stream",
     "text": [
      "The time taken to train the Decision Tree Regressor model is 0.005198001861572266\n",
      "The time taken to predict the testing dataset 0.0010046958923339844\n",
      "Coefficient of determination: 0.51\n"
     ]
    }
   ],
   "source": [
    "regtree = DecisionTreeRegressor() \n",
    "start = time.time()\n",
    "regtree.fit(X1_train.values.reshape(-1,1), Y1_train)\n",
    "end = time.time()\n",
    "print(\"The time taken to train the Decision Tree Regressor model is\",end-start)\n",
    "start = time.time()\n",
    "Y1_pred = regtree.predict(X1_test.values.reshape(-1,1))\n",
    "end= time.time()\n",
    "print(\"The time taken to predict the testing dataset\",end-start)\n",
    "print(\"Coefficient of determination: %.2f\" % r2_score(Y1_test, Y1_pred))"
   ]
  },
  {
   "cell_type": "markdown",
   "id": "517d384e",
   "metadata": {},
   "source": [
    "### KNN Regressor"
   ]
  },
  {
   "cell_type": "code",
   "execution_count": 71,
   "id": "b923ff89",
   "metadata": {},
   "outputs": [
    {
     "name": "stdout",
     "output_type": "stream",
     "text": [
      "The time taken to train the KNN regressor model is 0.0029916763305664062\n",
      "The time taken to predict the testing dataset 0.002051115036010742\n",
      "Coefficient of determination: 0.46\n"
     ]
    }
   ],
   "source": [
    "KNNR = KNeighborsRegressor(n_neighbors=3)\n",
    "start = time.time()\n",
    "KNNR.fit(X1_train.values.reshape(-1,1), Y1_train)\n",
    "end = time.time()\n",
    "print(\"The time taken to train the KNN regressor model is\",end-start)\n",
    "start = time.time()\n",
    "Y1_pred = KNNR.predict(X1_test.values.reshape(-1,1))\n",
    "end = time.time()\n",
    "print(\"The time taken to predict the testing dataset\",end-start) \n",
    "print(\"Coefficient of determination: %.2f\" % r2_score(Y1_test, Y1_pred))"
   ]
  }
 ],
 "metadata": {
  "kernelspec": {
   "display_name": "Python 3 (ipykernel)",
   "language": "python",
   "name": "python3"
  },
  "language_info": {
   "codemirror_mode": {
    "name": "ipython",
    "version": 3
   },
   "file_extension": ".py",
   "mimetype": "text/x-python",
   "name": "python",
   "nbconvert_exporter": "python",
   "pygments_lexer": "ipython3",
   "version": "3.9.12"
  }
 },
 "nbformat": 4,
 "nbformat_minor": 5
}
